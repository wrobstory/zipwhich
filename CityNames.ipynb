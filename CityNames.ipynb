{
 "cells": [
  {
   "cell_type": "markdown",
   "metadata": {},
   "source": [
    "The goal: find all cities that might need strange capitalization. For example, mchenry should not be Mchenry, but rather McHenry."
   ]
  },
  {
   "cell_type": "code",
   "execution_count": 15,
   "metadata": {
    "collapsed": false
   },
   "outputs": [],
   "source": [
    "from collections import defaultdict\n",
    "import pandas as pd"
   ]
  },
  {
   "cell_type": "code",
   "execution_count": 16,
   "metadata": {
    "collapsed": false
   },
   "outputs": [],
   "source": [
    "col_names = ['country_code',\n",
    "             'postal_code',\n",
    "             'place_name',\n",
    "             'admin_name1',\n",
    "             'admin_code1',\n",
    "             'admin_name2',\n",
    "             'admin_code2',\n",
    "             'admin_name3',\n",
    "             'admin_code3',\n",
    "             'latitude',\n",
    "             'longitude',\n",
    "             'accuracy']\n",
    "geonames = pd.read_table('GeoNamesZip.txt', header=None, names=col_names, dtype={'postal_code': str})\n",
    "geonames_city_set = set(geonames['place_name'])\n",
    "\n",
    "# Noncensus is ~1:1 City to Zip Code\n",
    "noncensus = pd.read_csv('noncensus_zip.csv', dtype={'zip': str})\n",
    "noncensus_city_set = set(noncensus['city'])"
   ]
  },
  {
   "cell_type": "code",
   "execution_count": 12,
   "metadata": {
    "collapsed": false
   },
   "outputs": [],
   "source": [
    "all_names = geonames_city_set.union(noncensus_city_set)"
   ]
  },
  {
   "cell_type": "code",
   "execution_count": 44,
   "metadata": {
    "collapsed": false
   },
   "outputs": [],
   "source": [
    "lower_to_spellings = defaultdict(set)\n",
    "alt_spellings = {}\n",
    "for name in all_names:\n",
    "    lowered = name.lower()\n",
    "    names = lower_to_spellings.get(lowered)\n",
    "    if names:\n",
    "        names.add(name)\n",
    "        vset = alt_spellings.get(lowered)\n",
    "        if vset:\n",
    "            alt_spellings[lowered] = vset.union(names)\n",
    "        else:\n",
    "            alt_spellings[lowered] = names\n",
    "    lower_to_spellings[lowered].add(name)"
   ]
  },
  {
   "cell_type": "code",
   "execution_count": 45,
   "metadata": {
    "collapsed": false
   },
   "outputs": [
    {
     "data": {
      "text/plain": [
       "{'altus afb': {'Altus AFB', 'Altus Afb'},\n",
       " 'arnold afb': {'Arnold AFB', 'Arnold Afb'},\n",
       " 'barksdale afb': {'Barksdale AFB', 'Barksdale Afb'},\n",
       " 'beale afb': {'Beale AFB', 'Beale Afb'},\n",
       " 'cannon afb': {'Cannon AFB', 'Cannon Afb'},\n",
       " 'charleston afb': {'Charleston AFB', 'Charleston Afb'},\n",
       " 'dover afb': {'Dover AFB', 'Dover Afb'},\n",
       " 'dyess afb': {'Dyess AFB', 'Dyess Afb'},\n",
       " 'eglin afb': {'Eglin AFB', 'Eglin Afb'},\n",
       " 'eielson afb': {'Eielson AFB', 'Eielson Afb'},\n",
       " 'ellsworth afb': {'Ellsworth AFB', 'Ellsworth Afb'},\n",
       " 'elmendorf afb': {'Elmendorf AFB', 'Elmendorf Afb'},\n",
       " 'fe warren afb': {'Fe Warren AFB', 'Fe Warren Afb'},\n",
       " 'fond du lac': {'Fond Du Lac', 'Fond du Lac'},\n",
       " 'goodfellow afb': {'Goodfellow AFB', 'Goodfellow Afb'},\n",
       " 'grand forks afb': {'Grand Forks AFB', 'Grand Forks Afb'},\n",
       " 'grissom afb': {'Grissom AFB', 'Grissom Afb'},\n",
       " 'hanscom afb': {'Hanscom AFB', 'Hanscom Afb'},\n",
       " 'hill afb': {'Hill AFB', 'Hill Afb'},\n",
       " 'kirtland afb': {'Kirtland AFB', 'Kirtland Afb'},\n",
       " 'lake in the hills': {'Lake In The Hills', 'Lake in the Hills'},\n",
       " 'luke afb': {'Luke AFB', 'Luke Afb'},\n",
       " 'mcallen': {'McAllen', 'Mcallen'},\n",
       " 'mcarthur': {'McArthur', 'Mcarthur'},\n",
       " 'mcclellan afb': {'Mcclellan AFB', 'Mcclellan Afb'},\n",
       " 'mccomb': {'McComb', 'Mccomb'},\n",
       " 'mcdonough': {'McDonough', 'Mcdonough'},\n",
       " 'mcgregor': {'McGregor', 'Mcgregor'},\n",
       " 'mchenry': {'McHenry', 'Mchenry'},\n",
       " 'mcintosh': {'McIntosh', 'Mcintosh'},\n",
       " 'mckenzie': {'McKenzie', 'Mckenzie'},\n",
       " 'mclean': {'McLean', 'Mclean'},\n",
       " 'mcleod': {'McLeod', 'Mcleod'},\n",
       " 'mcminnville': {'McMinnville', 'Mcminnville'},\n",
       " 'mcnary': {'McNary', 'Mcnary'},\n",
       " 'minot afb': {'Minot AFB', 'Minot Afb'},\n",
       " 'nellis afb': {'Nellis AFB', 'Nellis Afb'},\n",
       " 'patrick afb': {'Patrick AFB', 'Patrick Afb'},\n",
       " 'sheppard afb': {'Sheppard AFB', 'Sheppard Afb'},\n",
       " 'travis afb': {'Travis AFB', 'Travis Afb'},\n",
       " 'truth or consequences': {'Truth Or Consequences', 'Truth or Consequences'}}"
      ]
     },
     "execution_count": 45,
     "metadata": {},
     "output_type": "execute_result"
    }
   ],
   "source": [
    "alt_spellings"
   ]
  }
 ],
 "metadata": {
  "kernelspec": {
   "display_name": "Python 2",
   "language": "python",
   "name": "python2"
  },
  "language_info": {
   "codemirror_mode": {
    "name": "ipython",
    "version": 2
   },
   "file_extension": ".py",
   "mimetype": "text/x-python",
   "name": "python",
   "nbconvert_exporter": "python",
   "pygments_lexer": "ipython2",
   "version": "2.7.9"
  }
 },
 "nbformat": 4,
 "nbformat_minor": 0
}
